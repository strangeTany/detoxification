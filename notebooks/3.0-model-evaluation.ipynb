{
 "cells": [
  {
   "cell_type": "code",
   "execution_count": 11,
   "metadata": {},
   "outputs": [],
   "source": [
    "from simpletransformers.seq2seq import Seq2SeqModel\n",
    "from sklearn.model_selection import train_test_split\n",
    "import seaborn as sns\n",
    "\n",
    "import pandas as pd\n",
    "import os\n",
    "import evaluate\n",
    "import numpy as np"
   ]
  },
  {
   "cell_type": "code",
   "execution_count": 33,
   "metadata": {},
   "outputs": [],
   "source": [
    "data_path = os.path.join('../data/interim/preprocessed.tsv')\n",
    "models_path = os.path.join('../models')"
   ]
  },
  {
   "cell_type": "code",
   "execution_count": 34,
   "metadata": {},
   "outputs": [],
   "source": [
    "df = pd.read_csv(data_path, sep='\\t')\n",
    "\n",
    "df = df.rename(columns={\"reference\": \"input_text\", \"translation\": \"target_text\"})\n",
    "train, test = train_test_split(df, test_size=0.2)\n",
    "test = pd.DataFrame(test, columns = ['input_text','target_text', 'ref_tox', 'trn_tox']).sample(1000)\n",
    "input = test['input_text']\n",
    "target = test['target_text']"
   ]
  },
  {
   "cell_type": "code",
   "execution_count": 12,
   "metadata": {},
   "outputs": [
    {
     "data": {
      "application/vnd.jupyter.widget-view+json": {
       "model_id": "2c91ab90e2744f049372fe143b8567f8",
       "version_major": 2,
       "version_minor": 0
      },
      "text/plain": [
       "Generating outputs:   0%|          | 0/4 [00:00<?, ?it/s]"
      ]
     },
     "metadata": {},
     "output_type": "display_data"
    },
    {
     "name": "stderr",
     "output_type": "stream",
     "text": [
      "C:\\Users\\Anthony\\AppData\\Local\\Packages\\PythonSoftwareFoundation.Python.3.11_qbz5n2kfra8p0\\LocalCache\\local-packages\\Python311\\site-packages\\transformers\\generation\\configuration_utils.py:399: UserWarning: `num_beams` is set to 1. However, `early_stopping` is set to `True` -- this flag is only used in beam-based generation modes. You should set `num_beams>1` or unset `early_stopping`.\n",
      "  warnings.warn(\n",
      "C:\\Users\\Anthony\\AppData\\Local\\Packages\\PythonSoftwareFoundation.Python.3.11_qbz5n2kfra8p0\\LocalCache\\local-packages\\Python311\\site-packages\\transformers\\generation\\configuration_utils.py:418: UserWarning: `num_beams` is set to 1. However, `length_penalty` is set to `2.0` -- this flag is only used in beam-based generation modes. You should set `num_beams>1` or unset `length_penalty`.\n",
      "  warnings.warn(\n"
     ]
    },
    {
     "data": {
      "text/plain": [
       "[\"That's the only truth you've ever said in your life\",\n",
       " 'no hipsters and no virgins.',\n",
       " 'You would take my daughter.',\n",
       " 'how does he know about such things?',\n",
       " 'Yeah, she is a psycho, but it proves the psychic is not, right?',\n",
       " 'the \"poison\" is three hundred bucks, and you can\\'t get it in America, so don\\'t drink it!',\n",
       " \"Andy's not dirty, he's my man.\",\n",
       " 'listen to the Blackguard.',\n",
       " \"“You're wasting a car,” he said.\",\n",
       " 'He also ordered me to kill Ladislaus Girescho, Batu said.']"
      ]
     },
     "execution_count": 12,
     "metadata": {},
     "output_type": "execute_result"
    }
   ],
   "source": [
    "model = Seq2SeqModel(\n",
    "    encoder_decoder_type=\"bart\", \n",
    "    encoder_decoder_name=models_path,\n",
    "    \n",
    ")\n",
    "\n",
    "predict = model.predict(input.tolist())\n",
    "predict[:10]"
   ]
  },
  {
   "cell_type": "code",
   "execution_count": 13,
   "metadata": {},
   "outputs": [],
   "source": [
    "df = test.loc[input.index]\n",
    "df[\"predict\"] = predict\n",
    "df.to_csv('../data/interim/predict.tsv', sep=\"\\t\")"
   ]
  },
  {
   "cell_type": "code",
   "execution_count": 52,
   "metadata": {},
   "outputs": [],
   "source": [
    "df = pd.read_csv('../data/interim/predict.tsv', sep='\\t')"
   ]
  },
  {
   "cell_type": "code",
   "execution_count": 59,
   "metadata": {},
   "outputs": [
    {
     "name": "stderr",
     "output_type": "stream",
     "text": [
      "Using default facebook/roberta-hate-speech-dynabench-r4-target checkpoint\n"
     ]
    }
   ],
   "source": [
    "toxicity = evaluate.load(\"toxicity\", module_type=\"measurement\")\n",
    "results = toxicity.compute(predictions=df['predict'].apply(lambda x: x.lower()).to_list())"
   ]
  },
  {
   "cell_type": "code",
   "execution_count": 60,
   "metadata": {},
   "outputs": [],
   "source": [
    "df['predict_tox'] = pd.Series(results['toxicity'])"
   ]
  },
  {
   "cell_type": "code",
   "execution_count": 61,
   "metadata": {},
   "outputs": [
    {
     "data": {
      "text/html": [
       "<div>\n",
       "<style scoped>\n",
       "    .dataframe tbody tr th:only-of-type {\n",
       "        vertical-align: middle;\n",
       "    }\n",
       "\n",
       "    .dataframe tbody tr th {\n",
       "        vertical-align: top;\n",
       "    }\n",
       "\n",
       "    .dataframe thead th {\n",
       "        text-align: right;\n",
       "    }\n",
       "</style>\n",
       "<table border=\"1\" class=\"dataframe\">\n",
       "  <thead>\n",
       "    <tr style=\"text-align: right;\">\n",
       "      <th></th>\n",
       "      <th>Unnamed: 0</th>\n",
       "      <th>input_text</th>\n",
       "      <th>target_text</th>\n",
       "      <th>ref_tox</th>\n",
       "      <th>trn_tox</th>\n",
       "      <th>predict</th>\n",
       "      <th>predict_tox</th>\n",
       "    </tr>\n",
       "  </thead>\n",
       "  <tbody>\n",
       "    <tr>\n",
       "      <th>0</th>\n",
       "      <td>368081</td>\n",
       "      <td>where the hell did they come from? \"</td>\n",
       "      <td>But where on earth did they come from?\"</td>\n",
       "      <td>0.978349</td>\n",
       "      <td>0.022792</td>\n",
       "      <td>Where on earth did they come from?\"</td>\n",
       "      <td>0.467599</td>\n",
       "    </tr>\n",
       "    <tr>\n",
       "      <th>1</th>\n",
       "      <td>374168</td>\n",
       "      <td>Don't that look like Boom Boom's bike over the...</td>\n",
       "      <td>doesn't that motorcycle look like Boom Boom?</td>\n",
       "      <td>0.999373</td>\n",
       "      <td>0.000042</td>\n",
       "      <td>does it not look like Boom Boom's bike over th...</td>\n",
       "      <td>0.002833</td>\n",
       "    </tr>\n",
       "    <tr>\n",
       "      <th>2</th>\n",
       "      <td>63730</td>\n",
       "      <td>I managed to talk them into it, and then you f...</td>\n",
       "      <td>I managed to talk them down and you had to poo...</td>\n",
       "      <td>0.998523</td>\n",
       "      <td>0.046425</td>\n",
       "      <td>I talked them into it, and then you screw it up?</td>\n",
       "      <td>0.008327</td>\n",
       "    </tr>\n",
       "    <tr>\n",
       "      <th>3</th>\n",
       "      <td>199713</td>\n",
       "      <td>Happy birthday, asshole.</td>\n",
       "      <td>happy birthday, dude.</td>\n",
       "      <td>0.999559</td>\n",
       "      <td>0.000070</td>\n",
       "      <td>happy birthday, man.</td>\n",
       "      <td>0.000415</td>\n",
       "    </tr>\n",
       "    <tr>\n",
       "      <th>4</th>\n",
       "      <td>131478</td>\n",
       "      <td>I fucked it up when I was little.</td>\n",
       "      <td>I used to love that place when I was a kid.</td>\n",
       "      <td>0.970808</td>\n",
       "      <td>0.000052</td>\n",
       "      <td>I screwed up when I was a kid.</td>\n",
       "      <td>0.027289</td>\n",
       "    </tr>\n",
       "  </tbody>\n",
       "</table>\n",
       "</div>"
      ],
      "text/plain": [
       "   Unnamed: 0                                         input_text  \\\n",
       "0      368081               where the hell did they come from? \"   \n",
       "1      374168  Don't that look like Boom Boom's bike over the...   \n",
       "2       63730  I managed to talk them into it, and then you f...   \n",
       "3      199713                           Happy birthday, asshole.   \n",
       "4      131478                  I fucked it up when I was little.   \n",
       "\n",
       "                                         target_text   ref_tox   trn_tox  \\\n",
       "0            But where on earth did they come from?\"  0.978349  0.022792   \n",
       "1       doesn't that motorcycle look like Boom Boom?  0.999373  0.000042   \n",
       "2  I managed to talk them down and you had to poo...  0.998523  0.046425   \n",
       "3                              happy birthday, dude.  0.999559  0.000070   \n",
       "4        I used to love that place when I was a kid.  0.970808  0.000052   \n",
       "\n",
       "                                             predict  predict_tox  \n",
       "0                Where on earth did they come from?\"     0.467599  \n",
       "1  does it not look like Boom Boom's bike over th...     0.002833  \n",
       "2   I talked them into it, and then you screw it up?     0.008327  \n",
       "3                               happy birthday, man.     0.000415  \n",
       "4                     I screwed up when I was a kid.     0.027289  "
      ]
     },
     "execution_count": 61,
     "metadata": {},
     "output_type": "execute_result"
    }
   ],
   "source": [
    "df.head()"
   ]
  },
  {
   "cell_type": "code",
   "execution_count": 66,
   "metadata": {},
   "outputs": [],
   "source": [
    "df_ref = pd.DataFrame({\"tox\": df[\"ref_tox\"],\n",
    "                       \"label\": pd.Series([\"ref\"] * df[\"ref_tox\"].shape[0])})\n",
    "df_trn = pd.DataFrame({\"tox\": df[\"trn_tox\"],\n",
    "                       \"label\": pd.Series([\"trn\"] * df[\"trn_tox\"].shape[0])})\n",
    "df_predict = pd.DataFrame({\"tox\": df[\"predict_tox\"],\n",
    "                       \"label\": pd.Series([\"predict\"] * df[\"predict_tox\"].shape[0])})\n",
    "df_scores = pd.concat([df_ref, df_trn, df_predict]).reset_index(drop=True)"
   ]
  },
  {
   "cell_type": "code",
   "execution_count": 70,
   "metadata": {},
   "outputs": [
    {
     "data": {
      "text/plain": [
       "<seaborn.axisgrid.FacetGrid at 0x11e43e260>"
      ]
     },
     "execution_count": 70,
     "metadata": {},
     "output_type": "execute_result"
    },
    {
     "data": {
      "image/png": "[encoded data removed]",
      "text/plain": [
       "<Figure size 598.75x500 with 1 Axes>"
      ]
     },
     "metadata": {},
     "output_type": "display_data"
    }
   ],
   "source": [
    "sns.displot(data=df_scores, x=\"tox\", hue=\"label\")"
   ]
  },
  {
   "cell_type": "code",
   "execution_count": 72,
   "metadata": {},
   "outputs": [
    {
     "name": "stderr",
     "output_type": "stream",
     "text": [
      "Using default facebook/roberta-hate-speech-dynabench-r4-target checkpoint\n",
      "Using default facebook/roberta-hate-speech-dynabench-r4-target checkpoint\n"
     ]
    }
   ],
   "source": [
    "toxicity = evaluate.load(\"toxicity\", module_type=\"measurement\")\n",
    "ref_tox = toxicity.compute(predictions=df['input_text'].apply(lambda x: x.lower()).to_list())\n",
    "\n",
    "toxicity = evaluate.load(\"toxicity\", module_type=\"measurement\")\n",
    "trn_tox = toxicity.compute(predictions=df['target_text'].apply(lambda x: x.lower()).to_list())"
   ]
  },
  {
   "cell_type": "code",
   "execution_count": 76,
   "metadata": {},
   "outputs": [],
   "source": [
    "ref_tox, trn_tox = ref_tox[\"toxicity\"], trn_tox[\"toxicity\"]"
   ]
  },
  {
   "cell_type": "code",
   "execution_count": 77,
   "metadata": {},
   "outputs": [],
   "source": [
    "df_ref2 = pd.DataFrame({\"tox\": pd.Series(ref_tox),\n",
    "                       \"label\": pd.Series([\"ref\"] * df[\"ref_tox\"].shape[0])})\n",
    "df_trn2 = pd.DataFrame({\"tox\": pd.Series(trn_tox),\n",
    "                       \"label\": pd.Series([\"trn\"] * df[\"trn_tox\"].shape[0])})\n",
    "df_scores2 = pd.concat([df_ref2, df_trn2, df_predict]).reset_index(drop=True)"
   ]
  },
  {
   "cell_type": "code",
   "execution_count": 79,
   "metadata": {},
   "outputs": [
    {
     "data": {
      "text/plain": [
       "<seaborn.axisgrid.FacetGrid at 0x11c0baf50>"
      ]
     },
     "execution_count": 79,
     "metadata": {},
     "output_type": "execute_result"
    },
    {
     "data": {
      "image/png": "[encoded data removed]",
      "text/plain": [
       "<Figure size 598.75x500 with 1 Axes>"
      ]
     },
     "metadata": {},
     "output_type": "display_data"
    }
   ],
   "source": [
    "sns.displot(data=df_scores2, x=\"tox\", hue=\"label\")"
   ]
  },
  {
   "cell_type": "code",
   "execution_count": 81,
   "metadata": {},
   "outputs": [
    {
     "data": {
      "text/plain": [
       "<seaborn.axisgrid.FacetGrid at 0x11ed0da20>"
      ]
     },
     "execution_count": 81,
     "metadata": {},
     "output_type": "execute_result"
    },
    {
     "data": {
      "image/png": "[encoded data removed]",
      "text/plain": [
       "<Figure size 500x500 with 1 Axes>"
      ]
     },
     "metadata": {},
     "output_type": "display_data"
    }
   ],
   "source": [
    "sns.displot(x=pd.Series(trn_tox)-df['predict_tox'], alpha=0.5, linewidth=0.3)"
   ]
  },
  {
   "cell_type": "code",
   "execution_count": null,
   "metadata": {},
   "outputs": [],
   "source": []
  }
 ],
 "metadata": {
  "kernelspec": {
   "display_name": "base",
   "language": "python",
   "name": "python3"
  },
  "language_info": {
   "codemirror_mode": {
    "name": "ipython",
    "version": 3
   },
   "file_extension": ".py",
   "mimetype": "text/x-python",
   "name": "python",
   "nbconvert_exporter": "python",
   "pygments_lexer": "ipython3",
   "version": "3.11.6"
  }
 },
 "nbformat": 4,
 "nbformat_minor": 2
}
